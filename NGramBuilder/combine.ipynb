{
 "cells": [
  {
   "cell_type": "code",
   "execution_count": 45,
   "id": "9ed7fa41-3859-43d3-ba96-524089aa2044",
   "metadata": {},
   "outputs": [],
   "source": [
    "combined_prob = dict()\n",
    "combined_total_prob = dict()\n",
    "corrections = dict()"
   ]
  },
  {
   "cell_type": "code",
   "execution_count": 46,
   "id": "a744f5a5-b2c5-4c51-869e-916f67d293b5",
   "metadata": {},
   "outputs": [],
   "source": [
    "lihkg_csv_file = open(\"/mnt/vol1/repo/lihkg_corpus/examples/lihkg_6gram-no-suffix.csv\", \"r\")\n",
    "lihkg_lines = lihkg_csv_file.readlines()\n",
    "\n",
    "weight = 0.6\n",
    "for line in lihkg_lines[1:]:\n",
    "    parsed = line.split(',')\n",
    "    s = parsed[0]\n",
    "    p = float(parsed[1])\n",
    "    total_p = float(parsed[2])\n",
    "    combined_prob[s] = weight * p\n",
    "    combined_total_prob[s] = weight * total_p"
   ]
  },
  {
   "cell_type": "code",
   "execution_count": 47,
   "id": "36dab5b5-6245-49bd-b752-8eda440fd890",
   "metadata": {},
   "outputs": [],
   "source": [
    "apple_csv_file = open(\"/home/opc/apple-daily-corpus/examples/6gram-prob-nosym-lite.csv\", \"r\")\n",
    "apple_lines = apple_csv_file.readlines()\n",
    "\n",
    "weight = 1 - weight\n",
    "for line in apple_lines[1:]:\n",
    "    parsed = line.split(',')\n",
    "    s = parsed[0]\n",
    "    p = float(parsed[1])\n",
    "    total_p = float(parsed[2])\n",
    "    combined_prob[s] = combined_prob.get(s, 0) + weight * p\n",
    "    combined_total_prob[s] = combined_total_prob.get(s, 0) + weight * total_p"
   ]
  },
  {
   "cell_type": "code",
   "execution_count": 48,
   "id": "f146623e-cdbc-463e-9039-d4602e0ef1bf",
   "metadata": {},
   "outputs": [],
   "source": [
    "correction_file = open(\"/mnt/vol1/repo/lihkg_corpus/examples/correction.csv\", \"r\")\n",
    "correction_lines = correction_file.readlines()\n",
    "\n",
    "parsedHeader = False\n",
    "for line in correction_lines[1:]:\n",
    "    line = line.strip()\n",
    "    if len(line) == 0 or line.startswith(\"#\"): continue;\n",
    "    if not parsedHeader:\n",
    "        parsedHeader = True\n",
    "        continue\n",
    "    parsed = line.split(',')\n",
    "    original = parsed[0]\n",
    "    targets = parsed[1]\n",
    "    weightMod = 1\n",
    "    if len(parsed) > 2:\n",
    "        weightMod = float(parsed[2])\n",
    "        \n",
    "    targetTuples = []\n",
    "    for target in targets.split(\" \"):\n",
    "        targetTuples.append([target, weightMod])\n",
    "        \n",
    "    targetTuples.append([original, 1 - weightMod])\n",
    "    \n",
    "    corrections[original] = targetTuples"
   ]
  },
  {
   "cell_type": "code",
   "execution_count": 49,
   "id": "a8a16387-ebad-4023-9067-204e562be983",
   "metadata": {},
   "outputs": [
    {
     "name": "stdout",
     "output_type": "stream",
     "text": [
      "香港 0.9114512117102673\n"
     ]
    }
   ],
   "source": [
    "result_cond_prob = dict()\n",
    "result_total_prob = dict()\n",
    "\n",
    "for ngram_str in combined_prob:\n",
    "    if ngram_str == '': continue\n",
    "    if not ngram_str in corrections: \n",
    "        cond_prob = combined_prob[ngram_str]\n",
    "        total_prob = combined_total_prob[ngram_str]\n",
    "        if not ngram_str in result_cond_prob:\n",
    "            result_cond_prob[ngram_str] = 0\n",
    "            result_total_prob[ngram_str] = 0\n",
    "        result_cond_prob[ngram_str] += cond_prob\n",
    "        result_total_prob[ngram_str] += total_prob\n",
    "    else:\n",
    "        correctionTuples = corrections[ngram_str]\n",
    "        for correctionTuple in correctionTuples:\n",
    "            s = correctionTuple[0]\n",
    "            if not s in result_cond_prob:\n",
    "                result_cond_prob[s] = 0\n",
    "                result_total_prob[s] = 0\n",
    "            cond_prob = combined_prob[ngram_str] * correctionTuple[1]\n",
    "            total_prob = combined_total_prob[ngram_str] * correctionTuple[1]\n",
    "            result_cond_prob[s] += cond_prob\n",
    "            result_total_prob[s] += total_prob"
   ]
  },
  {
   "cell_type": "code",
   "execution_count": 50,
   "id": "a72c9a9b-c9b0-49f0-a2c3-2431a228f972",
   "metadata": {},
   "outputs": [],
   "source": [
    "# Dump the result into a csv file.\n",
    "\n",
    "output_path = \"combined.csv\"\n",
    "\n",
    "with open(output_path, \"w\") as f:\n",
    "    f.write(\"ngram,freq,total_freq\\n\")\n",
    "    for ngram_str in combined_prob:\n",
    "        if ngram_str == '': continue\n",
    "        cond_prob = result_cond_prob[ngram_str]\n",
    "        total_prob = result_total_prob[ngram_str]\n",
    "        if cond_prob > 1e-16:\n",
    "            f.write(ngram_str + \",\" + str(cond_prob) + \",\" + str(total_prob) + \"\\n\")"
   ]
  },
  {
   "cell_type": "code",
   "execution_count": null,
   "id": "ab37b658-d579-462a-a70e-8f6f2b69815d",
   "metadata": {},
   "outputs": [],
   "source": []
  }
 ],
 "metadata": {
  "kernelspec": {
   "display_name": "Python 3",
   "language": "python",
   "name": "python3"
  },
  "language_info": {
   "codemirror_mode": {
    "name": "ipython",
    "version": 3
   },
   "file_extension": ".py",
   "mimetype": "text/x-python",
   "name": "python",
   "nbconvert_exporter": "python",
   "pygments_lexer": "ipython3",
   "version": "3.6.8"
  }
 },
 "nbformat": 4,
 "nbformat_minor": 5
}
